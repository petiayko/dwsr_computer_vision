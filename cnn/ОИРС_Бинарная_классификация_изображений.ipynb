{
  "nbformat": 4,
  "nbformat_minor": 0,
  "metadata": {
    "colab": {
      "provenance": []
    },
    "kernelspec": {
      "name": "python3",
      "display_name": "Python 3"
    },
    "language_info": {
      "name": "python"
    }
  },
  "cells": [
    {
      "cell_type": "markdown",
      "source": [
        "# Подключение зависимостей"
      ],
      "metadata": {
        "id": "koudKOhsjooJ"
      }
    },
    {
      "cell_type": "code",
      "execution_count": 1,
      "metadata": {
        "id": "aQavyA8tq1HO"
      },
      "outputs": [],
      "source": [
        "import os\n",
        "import shutil\n",
        "import pandas as pd\n",
        "\n",
        "from google.colab import drive\n",
        "from tensorflow.keras.preprocessing.image import ImageDataGenerator\n",
        "from tensorflow.keras.models import Sequential\n",
        "from tensorflow.keras.layers import Conv2D, MaxPooling2D\n",
        "from tensorflow.keras.layers import Activation, Dropout, Flatten, Dense"
      ]
    },
    {
      "cell_type": "markdown",
      "source": [
        "# Подключение Гугл-диска с изображениями для обучения"
      ],
      "metadata": {
        "id": "KjXC8wIGjx7e"
      }
    },
    {
      "cell_type": "code",
      "source": [
        "drive.mount('/content/drive')"
      ],
      "metadata": {
        "colab": {
          "base_uri": "https://localhost:8080/"
        },
        "id": "BUBzvJ3RbIMZ",
        "outputId": "ebc01bb6-7d6c-48f3-f0f4-7b878ea80889"
      },
      "execution_count": 2,
      "outputs": [
        {
          "output_type": "stream",
          "name": "stdout",
          "text": [
            "Drive already mounted at /content/drive; to attempt to forcibly remount, call drive.mount(\"/content/drive\", force_remount=True).\n"
          ]
        }
      ]
    },
    {
      "cell_type": "markdown",
      "source": [
        "# Определение констант"
      ],
      "metadata": {
        "id": "F-TNEgI3j4OP"
      }
    },
    {
      "cell_type": "code",
      "source": [
        "FIRST_CLASS_NAME = 'rose'\n",
        "SECOND_CLASS_NAME = 'sunflower'\n",
        "\n",
        "NB_IMAGES = 733\n",
        "\n",
        "TEST_DATA_PORTION = 0.15\n",
        "VAL_DATA_PORTION = 0.15\n",
        "\n",
        "DATA_DIR = r'drive/MyDrive/Учеба/ОиРС/Семестр 8/Изображения'\n",
        "TRAIN_DIR = r'data/train'\n",
        "TEST_DIR = r'data/test'\n",
        "VAL_DIR = r'data/val'\n",
        "\n",
        "IMG_WIDTH, IMG_HEIGHT = 150, 150\n",
        "INPUT_SHAPE = (IMG_WIDTH, IMG_HEIGHT, 3)\n",
        "\n",
        "EPOCHS = 16\n",
        "BATCH_SIZE = 16"
      ],
      "metadata": {
        "id": "ABSDeRZCacwm"
      },
      "execution_count": 3,
      "outputs": []
    },
    {
      "cell_type": "markdown",
      "source": [
        "# Определение функции создания каталогов, в которые будут помещены изображения"
      ],
      "metadata": {
        "id": "9jMpD2NY3dkN"
      }
    },
    {
      "cell_type": "code",
      "source": [
        "def create_directory(dir_name):\n",
        "  if os.path.exists(dir_name):\n",
        "    shutil.rmtree(dir_name)\n",
        "  os.makedirs(dir_name)\n",
        "  os.makedirs(os.path.join(dir_name, FIRST_CLASS_NAME))\n",
        "  os.makedirs(os.path.join(dir_name, SECOND_CLASS_NAME))"
      ],
      "metadata": {
        "id": "_Gg5mTEUjS3g"
      },
      "execution_count": 4,
      "outputs": []
    },
    {
      "cell_type": "markdown",
      "source": [
        "# Определение функции копирования изображений\n",
        "На входе источник всех картинок, словарь вида `{целевая папка: количество фото}`<br>\n",
        "Алгоритм все изображения размещает по целевым директориям в требуемом количестве"
      ],
      "metadata": {
        "id": "yungM3OL3qQV"
      }
    },
    {
      "cell_type": "code",
      "source": [
        "def copy_images(source_dir, dest_map):\n",
        "  for cl in (FIRST_CLASS_NAME, SECOND_CLASS_NAME):\n",
        "    file_counter = 0\n",
        "    current_dest = 0\n",
        "    for address, _, files in os.walk(os.path.join(source_dir, cl)):\n",
        "      for file in files:\n",
        "        # print('what', os.path.join(address, file), 'where', os.path.join(list(dest_map.keys())[current_dest], cl))\n",
        "        shutil.copy2(os.path.join(address, file), os.path.join(list(dest_map.keys())[current_dest], cl))\n",
        "        file_counter += 1\n",
        "        if file_counter == list(dest_map.items())[current_dest][1]:\n",
        "          if current_dest < len(dest_map) - 1:\n",
        "            current_dest += 1\n",
        "            file_counter = 0"
      ],
      "metadata": {
        "id": "Zbbhspnhsmrf"
      },
      "execution_count": 5,
      "outputs": []
    },
    {
      "cell_type": "markdown",
      "source": [
        "# Определение функции подготовки изображений для обучения\n",
        "Последовательно создаются папки для картинок, картинки перемещаются в эти папки"
      ],
      "metadata": {
        "id": "GC8STeTC4ItM"
      }
    },
    {
      "cell_type": "code",
      "source": [
        "def prepare_data():\n",
        "  create_directory(TRAIN_DIR)\n",
        "  create_directory(TEST_DIR)\n",
        "  create_directory(VAL_DIR)\n",
        "  val_data_number = int(NB_IMAGES * VAL_DATA_PORTION)\n",
        "  test_data_number = int(NB_IMAGES * TEST_DATA_PORTION)\n",
        "  print(f'All: {NB_IMAGES}\\nVal: {val_data_number}\\nTest: {test_data_number}')\n",
        "\n",
        "  copy_images(DATA_DIR, {\n",
        "      TRAIN_DIR: NB_IMAGES - val_data_number - test_data_number,\n",
        "      VAL_DIR: val_data_number,\n",
        "      TEST_DIR: test_data_number\n",
        "      })"
      ],
      "metadata": {
        "id": "rucDsCFQs9g-"
      },
      "execution_count": 6,
      "outputs": []
    },
    {
      "cell_type": "code",
      "source": [
        "prepare_data()"
      ],
      "metadata": {
        "colab": {
          "base_uri": "https://localhost:8080/"
        },
        "collapsed": true,
        "id": "2PN--dcTxcTB",
        "outputId": "9f69b479-2e18-4b54-a8d0-a7dc8950e7b0"
      },
      "execution_count": 7,
      "outputs": [
        {
          "output_type": "stream",
          "name": "stdout",
          "text": [
            "All: 733\n",
            "Val: 109\n",
            "Test: 109\n"
          ]
        }
      ]
    },
    {
      "cell_type": "markdown",
      "source": [
        "# Инициализация модели, запуск обучения, сохранение модели в `.h5` файл"
      ],
      "metadata": {
        "id": "n7GgLjiS4WRl"
      }
    },
    {
      "cell_type": "code",
      "source": [
        "model = Sequential()\n",
        "model.add(Conv2D(32, (3, 3), input_shape=INPUT_SHAPE))\n",
        "model.add(Activation('relu'))\n",
        "model.add(MaxPooling2D(pool_size=(2, 2)))\n",
        "\n",
        "model.add(Conv2D(32, (3, 3)))\n",
        "model.add(Activation('relu'))\n",
        "model.add(MaxPooling2D(pool_size=(2, 2)))\n",
        "\n",
        "model.add(Conv2D(64, (3, 3)))\n",
        "model.add(Activation('relu'))\n",
        "model.add(MaxPooling2D(pool_size=(2, 2)))\n",
        "\n",
        "model.add(Flatten())\n",
        "model.add(Dense(64))\n",
        "model.add(Activation('relu'))\n",
        "model.add(Dropout(0.5))\n",
        "model.add(Dense(1))\n",
        "model.add(Activation('sigmoid'))\n",
        "\n",
        "model.compile(loss='binary_crossentropy', optimizer='adam', metrics=['accuracy'])"
      ],
      "metadata": {
        "id": "zlAJfQ5lmpkc"
      },
      "execution_count": 8,
      "outputs": []
    },
    {
      "cell_type": "code",
      "source": [
        "datagen = ImageDataGenerator(rescale=1. / 255)"
      ],
      "metadata": {
        "id": "36tKMJ2Madmc"
      },
      "execution_count": 9,
      "outputs": []
    },
    {
      "cell_type": "code",
      "source": [
        "train_generator = datagen.flow_from_directory(TRAIN_DIR,\n",
        "                                              target_size=(IMG_WIDTH, IMG_HEIGHT),\n",
        "                                              batch_size=BATCH_SIZE,\n",
        "                                              class_mode='binary')"
      ],
      "metadata": {
        "colab": {
          "base_uri": "https://localhost:8080/"
        },
        "id": "aAA8OYeH8CC7",
        "outputId": "201ba572-756e-4fb5-baa5-e329c8ae229f"
      },
      "execution_count": 10,
      "outputs": [
        {
          "output_type": "stream",
          "name": "stdout",
          "text": [
            "Found 1030 images belonging to 2 classes.\n"
          ]
        }
      ]
    },
    {
      "cell_type": "code",
      "source": [
        "test_generator = datagen.flow_from_directory(TEST_DIR,\n",
        "                                             target_size=(IMG_WIDTH, IMG_HEIGHT),\n",
        "                                             batch_size=BATCH_SIZE,\n",
        "                                             class_mode='binary')"
      ],
      "metadata": {
        "colab": {
          "base_uri": "https://localhost:8080/"
        },
        "id": "eapZ5kdH8RTx",
        "outputId": "3ab57242-2c81-4318-c20d-55d34a6d5e8f"
      },
      "execution_count": 11,
      "outputs": [
        {
          "output_type": "stream",
          "name": "stdout",
          "text": [
            "Found 269 images belonging to 2 classes.\n"
          ]
        }
      ]
    },
    {
      "cell_type": "code",
      "source": [
        "val_generator = datagen.flow_from_directory(VAL_DIR,\n",
        "                                            target_size=(IMG_WIDTH, IMG_HEIGHT),\n",
        "                                            batch_size=BATCH_SIZE,\n",
        "                                            class_mode='binary')"
      ],
      "metadata": {
        "colab": {
          "base_uri": "https://localhost:8080/"
        },
        "id": "x5DL0mFo8SPM",
        "outputId": "da9ca0d9-4e01-47df-9089-eabf1e4e4e59"
      },
      "execution_count": 12,
      "outputs": [
        {
          "output_type": "stream",
          "name": "stdout",
          "text": [
            "Found 218 images belonging to 2 classes.\n"
          ]
        }
      ]
    },
    {
      "cell_type": "code",
      "source": [
        "model.fit(train_generator, steps_per_epoch=NB_IMAGES // BATCH_SIZE,\n",
        "          epochs=EPOCHS, validation_data=val_generator,\n",
        "          validation_steps=int(NB_IMAGES * VAL_DATA_PORTION) // BATCH_SIZE)"
      ],
      "metadata": {
        "colab": {
          "base_uri": "https://localhost:8080/"
        },
        "id": "y2FKp-R58UxF",
        "outputId": "b35b207c-f72a-4682-8b9c-0a22f6d57ddb"
      },
      "execution_count": 13,
      "outputs": [
        {
          "output_type": "stream",
          "name": "stdout",
          "text": [
            "Epoch 1/16\n",
            "45/45 [==============================] - 31s 668ms/step - loss: 0.5046 - accuracy: 0.7549 - val_loss: 0.3178 - val_accuracy: 0.9271\n",
            "Epoch 2/16\n",
            "45/45 [==============================] - 29s 654ms/step - loss: 0.3298 - accuracy: 0.8732 - val_loss: 0.2395 - val_accuracy: 0.9062\n",
            "Epoch 3/16\n",
            "45/45 [==============================] - 27s 600ms/step - loss: 0.2809 - accuracy: 0.9085 - val_loss: 0.1812 - val_accuracy: 0.9479\n",
            "Epoch 4/16\n",
            "45/45 [==============================] - 28s 621ms/step - loss: 0.2887 - accuracy: 0.8845 - val_loss: 0.2134 - val_accuracy: 0.9167\n",
            "Epoch 5/16\n",
            "45/45 [==============================] - 29s 646ms/step - loss: 0.2432 - accuracy: 0.9056 - val_loss: 0.1579 - val_accuracy: 0.9271\n",
            "Epoch 6/16\n",
            "45/45 [==============================] - 26s 584ms/step - loss: 0.2238 - accuracy: 0.9197 - val_loss: 0.2496 - val_accuracy: 0.9167\n",
            "Epoch 7/16\n",
            "45/45 [==============================] - 27s 584ms/step - loss: 0.1846 - accuracy: 0.9268 - val_loss: 0.0875 - val_accuracy: 0.9688\n",
            "Epoch 8/16\n",
            "45/45 [==============================] - 27s 592ms/step - loss: 0.1784 - accuracy: 0.9282 - val_loss: 0.2210 - val_accuracy: 0.9167\n",
            "Epoch 9/16\n",
            "45/45 [==============================] - 33s 726ms/step - loss: 0.1573 - accuracy: 0.9239 - val_loss: 0.0729 - val_accuracy: 0.9792\n",
            "Epoch 10/16\n",
            "45/45 [==============================] - 28s 615ms/step - loss: 0.1479 - accuracy: 0.9444 - val_loss: 0.1802 - val_accuracy: 0.9479\n",
            "Epoch 11/16\n",
            "45/45 [==============================] - 28s 607ms/step - loss: 0.1031 - accuracy: 0.9583 - val_loss: 0.1788 - val_accuracy: 0.9375\n",
            "Epoch 12/16\n",
            "45/45 [==============================] - 27s 601ms/step - loss: 0.1071 - accuracy: 0.9676 - val_loss: 0.0673 - val_accuracy: 0.9896\n",
            "Epoch 13/16\n",
            "45/45 [==============================] - 29s 637ms/step - loss: 0.1095 - accuracy: 0.9634 - val_loss: 0.1358 - val_accuracy: 0.9375\n",
            "Epoch 14/16\n",
            "45/45 [==============================] - 30s 657ms/step - loss: 0.1084 - accuracy: 0.9611 - val_loss: 0.1676 - val_accuracy: 0.9375\n",
            "Epoch 15/16\n",
            "45/45 [==============================] - 28s 618ms/step - loss: 0.0644 - accuracy: 0.9746 - val_loss: 0.1618 - val_accuracy: 0.9583\n",
            "Epoch 16/16\n",
            "45/45 [==============================] - 27s 593ms/step - loss: 0.0891 - accuracy: 0.9704 - val_loss: 0.1879 - val_accuracy: 0.9271\n"
          ]
        },
        {
          "output_type": "execute_result",
          "data": {
            "text/plain": [
              "<keras.src.callbacks.History at 0x7cc4f85d7df0>"
            ]
          },
          "metadata": {},
          "execution_count": 13
        }
      ]
    },
    {
      "cell_type": "code",
      "source": [
        "model.save(f'{FIRST_CLASS_NAME}_{SECOND_CLASS_NAME}_model.h5')"
      ],
      "metadata": {
        "colab": {
          "base_uri": "https://localhost:8080/"
        },
        "id": "m29AjNwg9rTn",
        "outputId": "3b01a16d-b83b-4a09-fd7b-8af9c210420b"
      },
      "execution_count": 14,
      "outputs": [
        {
          "output_type": "stream",
          "name": "stderr",
          "text": [
            "/usr/local/lib/python3.10/dist-packages/keras/src/engine/training.py:3103: UserWarning: You are saving your model as an HDF5 file via `model.save()`. This file format is considered legacy. We recommend using instead the native Keras format, e.g. `model.save('my_model.keras')`.\n",
            "  saving_api.save_model(\n"
          ]
        }
      ]
    },
    {
      "cell_type": "markdown",
      "source": [
        "# Построение графиков потерь и качества"
      ],
      "metadata": {
        "id": "wU0HmonB4pb_"
      }
    },
    {
      "cell_type": "code",
      "source": [
        "pd.options.plotting.backend = 'plotly'"
      ],
      "metadata": {
        "id": "YL31sdIp_u9w"
      },
      "execution_count": 15,
      "outputs": []
    },
    {
      "cell_type": "code",
      "source": [
        "history = pd.DataFrame(model.history.history)"
      ],
      "metadata": {
        "id": "SapxRAQ-BQ7M"
      },
      "execution_count": 16,
      "outputs": []
    },
    {
      "cell_type": "code",
      "source": [
        "fig = history.plot(\n",
        "    template='simple_white',\n",
        "    labels=dict(index='Эпоха', value='Значение', variable='Параметры'))\n",
        "fig.update_xaxes(showgrid=True)\n",
        "fig.update_yaxes(showgrid=True)\n",
        "fig.show()"
      ],
      "metadata": {
        "colab": {
          "base_uri": "https://localhost:8080/",
          "height": 542
        },
        "id": "V_c_hAKEBXdX",
        "outputId": "c8b566bc-6983-48dd-dc4e-f51d2ce95fc9"
      },
      "execution_count": 17,
      "outputs": [
        {
          "output_type": "display_data",
          "data": {
            "text/html": [
              "<html>\n",
              "<head><meta charset=\"utf-8\" /></head>\n",
              "<body>\n",
              "    <div>            <script src=\"https://cdnjs.cloudflare.com/ajax/libs/mathjax/2.7.5/MathJax.js?config=TeX-AMS-MML_SVG\"></script><script type=\"text/javascript\">if (window.MathJax && window.MathJax.Hub && window.MathJax.Hub.Config) {window.MathJax.Hub.Config({SVG: {font: \"STIX-Web\"}});}</script>                <script type=\"text/javascript\">window.PlotlyConfig = {MathJaxConfig: 'local'};</script>\n",
              "        <script charset=\"utf-8\" src=\"https://cdn.plot.ly/plotly-2.24.1.min.js\"></script>                <div id=\"21a92e62-14d0-43c1-aeb3-260af342367f\" class=\"plotly-graph-div\" style=\"height:525px; width:100%;\"></div>            <script type=\"text/javascript\">                                    window.PLOTLYENV=window.PLOTLYENV || {};                                    if (document.getElementById(\"21a92e62-14d0-43c1-aeb3-260af342367f\")) {                    Plotly.newPlot(                        \"21a92e62-14d0-43c1-aeb3-260af342367f\",                        [{\"hovertemplate\":\"\\u041f\\u0430\\u0440\\u0430\\u043c\\u0435\\u0442\\u0440\\u044b=loss\\u003cbr\\u003e\\u042d\\u043f\\u043e\\u0445\\u0430=%{x}\\u003cbr\\u003e\\u0417\\u043d\\u0430\\u0447\\u0435\\u043d\\u0438\\u0435=%{y}\\u003cextra\\u003e\\u003c\\u002fextra\\u003e\",\"legendgroup\":\"loss\",\"line\":{\"color\":\"#1F77B4\",\"dash\":\"solid\"},\"marker\":{\"symbol\":\"circle\"},\"mode\":\"lines\",\"name\":\"loss\",\"orientation\":\"v\",\"showlegend\":true,\"x\":[0,1,2,3,4,5,6,7,8,9,10,11,12,13,14,15],\"xaxis\":\"x\",\"y\":[0.5045874118804932,0.3298090994358063,0.28092145919799805,0.28872600197792053,0.2431996464729309,0.22384151816368103,0.18456414341926575,0.17840223014354706,0.15725663304328918,0.1478806436061859,0.10305681079626083,0.10706865787506104,0.10949532687664032,0.1084093302488327,0.06437136232852936,0.08907580375671387],\"yaxis\":\"y\",\"type\":\"scatter\"},{\"hovertemplate\":\"\\u041f\\u0430\\u0440\\u0430\\u043c\\u0435\\u0442\\u0440\\u044b=accuracy\\u003cbr\\u003e\\u042d\\u043f\\u043e\\u0445\\u0430=%{x}\\u003cbr\\u003e\\u0417\\u043d\\u0430\\u0447\\u0435\\u043d\\u0438\\u0435=%{y}\\u003cextra\\u003e\\u003c\\u002fextra\\u003e\",\"legendgroup\":\"accuracy\",\"line\":{\"color\":\"#FF7F0E\",\"dash\":\"solid\"},\"marker\":{\"symbol\":\"circle\"},\"mode\":\"lines\",\"name\":\"accuracy\",\"orientation\":\"v\",\"showlegend\":true,\"x\":[0,1,2,3,4,5,6,7,8,9,10,11,12,13,14,15],\"xaxis\":\"x\",\"y\":[0.7549296021461487,0.8732394576072693,0.908450722694397,0.8845070600509644,0.905633807182312,0.919718325138092,0.9267605543136597,0.9281690120697021,0.9239436388015747,0.9444444179534912,0.9583333134651184,0.9676056504249573,0.9633802771568298,0.9611111283302307,0.9746478796005249,0.9704225063323975],\"yaxis\":\"y\",\"type\":\"scatter\"},{\"hovertemplate\":\"\\u041f\\u0430\\u0440\\u0430\\u043c\\u0435\\u0442\\u0440\\u044b=val_loss\\u003cbr\\u003e\\u042d\\u043f\\u043e\\u0445\\u0430=%{x}\\u003cbr\\u003e\\u0417\\u043d\\u0430\\u0447\\u0435\\u043d\\u0438\\u0435=%{y}\\u003cextra\\u003e\\u003c\\u002fextra\\u003e\",\"legendgroup\":\"val_loss\",\"line\":{\"color\":\"#2CA02C\",\"dash\":\"solid\"},\"marker\":{\"symbol\":\"circle\"},\"mode\":\"lines\",\"name\":\"val_loss\",\"orientation\":\"v\",\"showlegend\":true,\"x\":[0,1,2,3,4,5,6,7,8,9,10,11,12,13,14,15],\"xaxis\":\"x\",\"y\":[0.31784045696258545,0.23947615921497345,0.18116922676563263,0.21342754364013672,0.15794911980628967,0.249625101685524,0.08746818453073502,0.2209586501121521,0.07285714894533157,0.18020732700824738,0.17876525223255157,0.06730147451162338,0.13584010303020477,0.16760317981243134,0.16176564991474152,0.18787992000579834],\"yaxis\":\"y\",\"type\":\"scatter\"},{\"hovertemplate\":\"\\u041f\\u0430\\u0440\\u0430\\u043c\\u0435\\u0442\\u0440\\u044b=val_accuracy\\u003cbr\\u003e\\u042d\\u043f\\u043e\\u0445\\u0430=%{x}\\u003cbr\\u003e\\u0417\\u043d\\u0430\\u0447\\u0435\\u043d\\u0438\\u0435=%{y}\\u003cextra\\u003e\\u003c\\u002fextra\\u003e\",\"legendgroup\":\"val_accuracy\",\"line\":{\"color\":\"#D62728\",\"dash\":\"solid\"},\"marker\":{\"symbol\":\"circle\"},\"mode\":\"lines\",\"name\":\"val_accuracy\",\"orientation\":\"v\",\"showlegend\":true,\"x\":[0,1,2,3,4,5,6,7,8,9,10,11,12,13,14,15],\"xaxis\":\"x\",\"y\":[0.9270833134651184,0.90625,0.9479166865348816,0.9166666865348816,0.9270833134651184,0.9166666865348816,0.96875,0.9166666865348816,0.9791666865348816,0.9479166865348816,0.9375,0.9895833134651184,0.9375,0.9375,0.9583333134651184,0.9270833134651184],\"yaxis\":\"y\",\"type\":\"scatter\"}],                        {\"template\":{\"data\":{\"barpolar\":[{\"marker\":{\"line\":{\"color\":\"white\",\"width\":0.5},\"pattern\":{\"fillmode\":\"overlay\",\"size\":10,\"solidity\":0.2}},\"type\":\"barpolar\"}],\"bar\":[{\"error_x\":{\"color\":\"rgb(36,36,36)\"},\"error_y\":{\"color\":\"rgb(36,36,36)\"},\"marker\":{\"line\":{\"color\":\"white\",\"width\":0.5},\"pattern\":{\"fillmode\":\"overlay\",\"size\":10,\"solidity\":0.2}},\"type\":\"bar\"}],\"carpet\":[{\"aaxis\":{\"endlinecolor\":\"rgb(36,36,36)\",\"gridcolor\":\"white\",\"linecolor\":\"white\",\"minorgridcolor\":\"white\",\"startlinecolor\":\"rgb(36,36,36)\"},\"baxis\":{\"endlinecolor\":\"rgb(36,36,36)\",\"gridcolor\":\"white\",\"linecolor\":\"white\",\"minorgridcolor\":\"white\",\"startlinecolor\":\"rgb(36,36,36)\"},\"type\":\"carpet\"}],\"choropleth\":[{\"colorbar\":{\"outlinewidth\":1,\"tickcolor\":\"rgb(36,36,36)\",\"ticks\":\"outside\"},\"type\":\"choropleth\"}],\"contourcarpet\":[{\"colorbar\":{\"outlinewidth\":1,\"tickcolor\":\"rgb(36,36,36)\",\"ticks\":\"outside\"},\"type\":\"contourcarpet\"}],\"contour\":[{\"colorbar\":{\"outlinewidth\":1,\"tickcolor\":\"rgb(36,36,36)\",\"ticks\":\"outside\"},\"colorscale\":[[0.0,\"#440154\"],[0.1111111111111111,\"#482878\"],[0.2222222222222222,\"#3e4989\"],[0.3333333333333333,\"#31688e\"],[0.4444444444444444,\"#26828e\"],[0.5555555555555556,\"#1f9e89\"],[0.6666666666666666,\"#35b779\"],[0.7777777777777778,\"#6ece58\"],[0.8888888888888888,\"#b5de2b\"],[1.0,\"#fde725\"]],\"type\":\"contour\"}],\"heatmapgl\":[{\"colorbar\":{\"outlinewidth\":1,\"tickcolor\":\"rgb(36,36,36)\",\"ticks\":\"outside\"},\"colorscale\":[[0.0,\"#440154\"],[0.1111111111111111,\"#482878\"],[0.2222222222222222,\"#3e4989\"],[0.3333333333333333,\"#31688e\"],[0.4444444444444444,\"#26828e\"],[0.5555555555555556,\"#1f9e89\"],[0.6666666666666666,\"#35b779\"],[0.7777777777777778,\"#6ece58\"],[0.8888888888888888,\"#b5de2b\"],[1.0,\"#fde725\"]],\"type\":\"heatmapgl\"}],\"heatmap\":[{\"colorbar\":{\"outlinewidth\":1,\"tickcolor\":\"rgb(36,36,36)\",\"ticks\":\"outside\"},\"colorscale\":[[0.0,\"#440154\"],[0.1111111111111111,\"#482878\"],[0.2222222222222222,\"#3e4989\"],[0.3333333333333333,\"#31688e\"],[0.4444444444444444,\"#26828e\"],[0.5555555555555556,\"#1f9e89\"],[0.6666666666666666,\"#35b779\"],[0.7777777777777778,\"#6ece58\"],[0.8888888888888888,\"#b5de2b\"],[1.0,\"#fde725\"]],\"type\":\"heatmap\"}],\"histogram2dcontour\":[{\"colorbar\":{\"outlinewidth\":1,\"tickcolor\":\"rgb(36,36,36)\",\"ticks\":\"outside\"},\"colorscale\":[[0.0,\"#440154\"],[0.1111111111111111,\"#482878\"],[0.2222222222222222,\"#3e4989\"],[0.3333333333333333,\"#31688e\"],[0.4444444444444444,\"#26828e\"],[0.5555555555555556,\"#1f9e89\"],[0.6666666666666666,\"#35b779\"],[0.7777777777777778,\"#6ece58\"],[0.8888888888888888,\"#b5de2b\"],[1.0,\"#fde725\"]],\"type\":\"histogram2dcontour\"}],\"histogram2d\":[{\"colorbar\":{\"outlinewidth\":1,\"tickcolor\":\"rgb(36,36,36)\",\"ticks\":\"outside\"},\"colorscale\":[[0.0,\"#440154\"],[0.1111111111111111,\"#482878\"],[0.2222222222222222,\"#3e4989\"],[0.3333333333333333,\"#31688e\"],[0.4444444444444444,\"#26828e\"],[0.5555555555555556,\"#1f9e89\"],[0.6666666666666666,\"#35b779\"],[0.7777777777777778,\"#6ece58\"],[0.8888888888888888,\"#b5de2b\"],[1.0,\"#fde725\"]],\"type\":\"histogram2d\"}],\"histogram\":[{\"marker\":{\"line\":{\"color\":\"white\",\"width\":0.6}},\"type\":\"histogram\"}],\"mesh3d\":[{\"colorbar\":{\"outlinewidth\":1,\"tickcolor\":\"rgb(36,36,36)\",\"ticks\":\"outside\"},\"type\":\"mesh3d\"}],\"parcoords\":[{\"line\":{\"colorbar\":{\"outlinewidth\":1,\"tickcolor\":\"rgb(36,36,36)\",\"ticks\":\"outside\"}},\"type\":\"parcoords\"}],\"pie\":[{\"automargin\":true,\"type\":\"pie\"}],\"scatter3d\":[{\"line\":{\"colorbar\":{\"outlinewidth\":1,\"tickcolor\":\"rgb(36,36,36)\",\"ticks\":\"outside\"}},\"marker\":{\"colorbar\":{\"outlinewidth\":1,\"tickcolor\":\"rgb(36,36,36)\",\"ticks\":\"outside\"}},\"type\":\"scatter3d\"}],\"scattercarpet\":[{\"marker\":{\"colorbar\":{\"outlinewidth\":1,\"tickcolor\":\"rgb(36,36,36)\",\"ticks\":\"outside\"}},\"type\":\"scattercarpet\"}],\"scattergeo\":[{\"marker\":{\"colorbar\":{\"outlinewidth\":1,\"tickcolor\":\"rgb(36,36,36)\",\"ticks\":\"outside\"}},\"type\":\"scattergeo\"}],\"scattergl\":[{\"marker\":{\"colorbar\":{\"outlinewidth\":1,\"tickcolor\":\"rgb(36,36,36)\",\"ticks\":\"outside\"}},\"type\":\"scattergl\"}],\"scattermapbox\":[{\"marker\":{\"colorbar\":{\"outlinewidth\":1,\"tickcolor\":\"rgb(36,36,36)\",\"ticks\":\"outside\"}},\"type\":\"scattermapbox\"}],\"scatterpolargl\":[{\"marker\":{\"colorbar\":{\"outlinewidth\":1,\"tickcolor\":\"rgb(36,36,36)\",\"ticks\":\"outside\"}},\"type\":\"scatterpolargl\"}],\"scatterpolar\":[{\"marker\":{\"colorbar\":{\"outlinewidth\":1,\"tickcolor\":\"rgb(36,36,36)\",\"ticks\":\"outside\"}},\"type\":\"scatterpolar\"}],\"scatter\":[{\"fillpattern\":{\"fillmode\":\"overlay\",\"size\":10,\"solidity\":0.2},\"type\":\"scatter\"}],\"scatterternary\":[{\"marker\":{\"colorbar\":{\"outlinewidth\":1,\"tickcolor\":\"rgb(36,36,36)\",\"ticks\":\"outside\"}},\"type\":\"scatterternary\"}],\"surface\":[{\"colorbar\":{\"outlinewidth\":1,\"tickcolor\":\"rgb(36,36,36)\",\"ticks\":\"outside\"},\"colorscale\":[[0.0,\"#440154\"],[0.1111111111111111,\"#482878\"],[0.2222222222222222,\"#3e4989\"],[0.3333333333333333,\"#31688e\"],[0.4444444444444444,\"#26828e\"],[0.5555555555555556,\"#1f9e89\"],[0.6666666666666666,\"#35b779\"],[0.7777777777777778,\"#6ece58\"],[0.8888888888888888,\"#b5de2b\"],[1.0,\"#fde725\"]],\"type\":\"surface\"}],\"table\":[{\"cells\":{\"fill\":{\"color\":\"rgb(237,237,237)\"},\"line\":{\"color\":\"white\"}},\"header\":{\"fill\":{\"color\":\"rgb(217,217,217)\"},\"line\":{\"color\":\"white\"}},\"type\":\"table\"}]},\"layout\":{\"annotationdefaults\":{\"arrowhead\":0,\"arrowwidth\":1},\"autotypenumbers\":\"strict\",\"coloraxis\":{\"colorbar\":{\"outlinewidth\":1,\"tickcolor\":\"rgb(36,36,36)\",\"ticks\":\"outside\"}},\"colorscale\":{\"diverging\":[[0.0,\"rgb(103,0,31)\"],[0.1,\"rgb(178,24,43)\"],[0.2,\"rgb(214,96,77)\"],[0.3,\"rgb(244,165,130)\"],[0.4,\"rgb(253,219,199)\"],[0.5,\"rgb(247,247,247)\"],[0.6,\"rgb(209,229,240)\"],[0.7,\"rgb(146,197,222)\"],[0.8,\"rgb(67,147,195)\"],[0.9,\"rgb(33,102,172)\"],[1.0,\"rgb(5,48,97)\"]],\"sequential\":[[0.0,\"#440154\"],[0.1111111111111111,\"#482878\"],[0.2222222222222222,\"#3e4989\"],[0.3333333333333333,\"#31688e\"],[0.4444444444444444,\"#26828e\"],[0.5555555555555556,\"#1f9e89\"],[0.6666666666666666,\"#35b779\"],[0.7777777777777778,\"#6ece58\"],[0.8888888888888888,\"#b5de2b\"],[1.0,\"#fde725\"]],\"sequentialminus\":[[0.0,\"#440154\"],[0.1111111111111111,\"#482878\"],[0.2222222222222222,\"#3e4989\"],[0.3333333333333333,\"#31688e\"],[0.4444444444444444,\"#26828e\"],[0.5555555555555556,\"#1f9e89\"],[0.6666666666666666,\"#35b779\"],[0.7777777777777778,\"#6ece58\"],[0.8888888888888888,\"#b5de2b\"],[1.0,\"#fde725\"]]},\"colorway\":[\"#1F77B4\",\"#FF7F0E\",\"#2CA02C\",\"#D62728\",\"#9467BD\",\"#8C564B\",\"#E377C2\",\"#7F7F7F\",\"#BCBD22\",\"#17BECF\"],\"font\":{\"color\":\"rgb(36,36,36)\"},\"geo\":{\"bgcolor\":\"white\",\"lakecolor\":\"white\",\"landcolor\":\"white\",\"showlakes\":true,\"showland\":true,\"subunitcolor\":\"white\"},\"hoverlabel\":{\"align\":\"left\"},\"hovermode\":\"closest\",\"mapbox\":{\"style\":\"light\"},\"paper_bgcolor\":\"white\",\"plot_bgcolor\":\"white\",\"polar\":{\"angularaxis\":{\"gridcolor\":\"rgb(232,232,232)\",\"linecolor\":\"rgb(36,36,36)\",\"showgrid\":false,\"showline\":true,\"ticks\":\"outside\"},\"bgcolor\":\"white\",\"radialaxis\":{\"gridcolor\":\"rgb(232,232,232)\",\"linecolor\":\"rgb(36,36,36)\",\"showgrid\":false,\"showline\":true,\"ticks\":\"outside\"}},\"scene\":{\"xaxis\":{\"backgroundcolor\":\"white\",\"gridcolor\":\"rgb(232,232,232)\",\"gridwidth\":2,\"linecolor\":\"rgb(36,36,36)\",\"showbackground\":true,\"showgrid\":false,\"showline\":true,\"ticks\":\"outside\",\"zeroline\":false,\"zerolinecolor\":\"rgb(36,36,36)\"},\"yaxis\":{\"backgroundcolor\":\"white\",\"gridcolor\":\"rgb(232,232,232)\",\"gridwidth\":2,\"linecolor\":\"rgb(36,36,36)\",\"showbackground\":true,\"showgrid\":false,\"showline\":true,\"ticks\":\"outside\",\"zeroline\":false,\"zerolinecolor\":\"rgb(36,36,36)\"},\"zaxis\":{\"backgroundcolor\":\"white\",\"gridcolor\":\"rgb(232,232,232)\",\"gridwidth\":2,\"linecolor\":\"rgb(36,36,36)\",\"showbackground\":true,\"showgrid\":false,\"showline\":true,\"ticks\":\"outside\",\"zeroline\":false,\"zerolinecolor\":\"rgb(36,36,36)\"}},\"shapedefaults\":{\"fillcolor\":\"black\",\"line\":{\"width\":0},\"opacity\":0.3},\"ternary\":{\"aaxis\":{\"gridcolor\":\"rgb(232,232,232)\",\"linecolor\":\"rgb(36,36,36)\",\"showgrid\":false,\"showline\":true,\"ticks\":\"outside\"},\"baxis\":{\"gridcolor\":\"rgb(232,232,232)\",\"linecolor\":\"rgb(36,36,36)\",\"showgrid\":false,\"showline\":true,\"ticks\":\"outside\"},\"bgcolor\":\"white\",\"caxis\":{\"gridcolor\":\"rgb(232,232,232)\",\"linecolor\":\"rgb(36,36,36)\",\"showgrid\":false,\"showline\":true,\"ticks\":\"outside\"}},\"title\":{\"x\":0.05},\"xaxis\":{\"automargin\":true,\"gridcolor\":\"rgb(232,232,232)\",\"linecolor\":\"rgb(36,36,36)\",\"showgrid\":false,\"showline\":true,\"ticks\":\"outside\",\"title\":{\"standoff\":15},\"zeroline\":false,\"zerolinecolor\":\"rgb(36,36,36)\"},\"yaxis\":{\"automargin\":true,\"gridcolor\":\"rgb(232,232,232)\",\"linecolor\":\"rgb(36,36,36)\",\"showgrid\":false,\"showline\":true,\"ticks\":\"outside\",\"title\":{\"standoff\":15},\"zeroline\":false,\"zerolinecolor\":\"rgb(36,36,36)\"}}},\"xaxis\":{\"anchor\":\"y\",\"domain\":[0.0,1.0],\"title\":{\"text\":\"\\u042d\\u043f\\u043e\\u0445\\u0430\"},\"showgrid\":true},\"yaxis\":{\"anchor\":\"x\",\"domain\":[0.0,1.0],\"title\":{\"text\":\"\\u0417\\u043d\\u0430\\u0447\\u0435\\u043d\\u0438\\u0435\"},\"showgrid\":true},\"legend\":{\"title\":{\"text\":\"\\u041f\\u0430\\u0440\\u0430\\u043c\\u0435\\u0442\\u0440\\u044b\"},\"tracegroupgap\":0},\"margin\":{\"t\":60}},                        {\"responsive\": true}                    ).then(function(){\n",
              "                            \n",
              "var gd = document.getElementById('21a92e62-14d0-43c1-aeb3-260af342367f');\n",
              "var x = new MutationObserver(function (mutations, observer) {{\n",
              "        var display = window.getComputedStyle(gd).display;\n",
              "        if (!display || display === 'none') {{\n",
              "            console.log([gd, 'removed!']);\n",
              "            Plotly.purge(gd);\n",
              "            observer.disconnect();\n",
              "        }}\n",
              "}});\n",
              "\n",
              "// Listen for the removal of the full notebook cells\n",
              "var notebookContainer = gd.closest('#notebook-container');\n",
              "if (notebookContainer) {{\n",
              "    x.observe(notebookContainer, {childList: true});\n",
              "}}\n",
              "\n",
              "// Listen for the clearing of the current output cell\n",
              "var outputEl = gd.closest('.output');\n",
              "if (outputEl) {{\n",
              "    x.observe(outputEl, {childList: true});\n",
              "}}\n",
              "\n",
              "                        })                };                            </script>        </div>\n",
              "</body>\n",
              "</html>"
            ]
          },
          "metadata": {}
        }
      ]
    },
    {
      "cell_type": "code",
      "source": [],
      "metadata": {
        "id": "cM3G5inkBhd1"
      },
      "execution_count": null,
      "outputs": []
    }
  ]
}